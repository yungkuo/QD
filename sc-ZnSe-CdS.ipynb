{
 "cells": [
  {
   "cell_type": "code",
   "execution_count": 1,
   "metadata": {
    "collapsed": true
   },
   "outputs": [],
   "source": [
    "%matplotlib inline\n",
    "from __future__ import division\n",
    "import numpy as np\n",
    "import matplotlib.pyplot as plt\n",
    "from scipy.interpolate import interp1d\n",
    "from scipy.special import expi, exp1"
   ]
  },
  {
   "cell_type": "markdown",
   "metadata": {},
   "source": [
    "** Define constants **"
   ]
  },
  {
   "cell_type": "code",
   "execution_count": 7,
   "metadata": {
    "collapsed": false
   },
   "outputs": [],
   "source": [
    "hbar=6.626e-34/2/np.pi\n",
    "e = 1.6e-19\n",
    "eo = 8.85e-12;\n",
    "m = 9.1e-31;\n",
    "me1 = 0.16;   # CdSe me=0.13 mh=0.45       # CdS me:0.21 mh:0.8\n",
    "mh1 = 0.57;    # CdTe me=0.1  mh=0.4\n",
    "me2 = 0.16;   \n",
    "mh2 = 0.57;\n",
    "er1 = 9.2;           # CdSe: 9.3(WZ) 10.2(ZB)        # CdTe: 10.2(ZB)\n",
    "er2 = 8.6;           # CdS: 8.9 or 7 or 6.3\n",
    "Eg = 2.02;             # ZnSe: me0.14 mh0.53 Eg2.72   CBO=0.8   qX:4.09 er=9.2\n",
    "Ep = 23                     # CdS: me.18 mh0.6 Eg2.45       VBO=0.52    qX=4.79 er=8.6\n",
    "Cbo = 0.7;           # CdSe qX: 4.95     Eg: 1.75 er=9.5\n",
    "Vbo = 0.43;             # CdTe qX: 4.1     Eg: 1.8\n",
    "k = np.sqrt(Ep/2);           # K dot P matrix element\n",
    "delta = 1e-15;              # use for avoid divergence in V(q)\n",
    "hole_barrier = 1  "
   ]
  },
  {
   "cell_type": "markdown",
   "metadata": {},
   "source": [
    "** Define Geometry**"
   ]
  },
  {
   "cell_type": "code",
   "execution_count": 16,
   "metadata": {
    "collapsed": true
   },
   "outputs": [],
   "source": [
    "Qw = 5e-9\n",
    "L = Qw + 2e-9       # Sim. length L >> QW (confined area)\n",
    "space = 1e-10;\n",
    "X = np.linspace(-L , L, 2*L/space+1)\n",
    "n = X.size\n",
    "region = [-L,-Qw,0,Qw,L]\n",
    "indx = np.zeros(len(region))\n",
    "for var in range(len(region)):\n",
    "    indx[var]=(region[var]-region[0])/space\n",
    "\n",
    "CB_value=[4.09,0.8,0,4.09]  #'buffer' to insert buffer\n",
    "VB_value=[0.52,0,0.52,0.52]\n",
    "er_value=[er1,er1,er2,er2]\n",
    "me_value=[me1,me1,me2,me2]\n",
    "mh_value=[mh1,mh1,mh2,mh2]"
   ]
  },
  {
   "cell_type": "code",
   "execution_count": 17,
   "metadata": {
    "collapsed": false
   },
   "outputs": [],
   "source": [
    "import piecewise2      #make a piecewise function with x as region, y as value\n",
    "Cb=piecewise2.piecewise2(indx,CB_value)\n",
    "Vb=piecewise2.piecewise2(indx,VB_value)\n",
    "er=piecewise2.piecewise2(indx,er_value)\n",
    "me=piecewise2.piecewise2(indx,me_value)\n",
    "mh=piecewise2.piecewise2(indx,mh_value)"
   ]
  },
  {
   "cell_type": "code",
   "execution_count": 19,
   "metadata": {
    "collapsed": false
   },
   "outputs": [
    {
     "data": {
      "text/plain": [
       "[<matplotlib.lines.Line2D at 0x10f21d2d0>]"
      ]
     },
     "execution_count": 19,
     "metadata": {},
     "output_type": "execute_result"
    },
    {
     "data": {
      "image/png": "[encoded data removed]",
      "text/plain": [
       "<matplotlib.figure.Figure at 0x10f21d310>"
      ]
     },
     "metadata": {},
     "output_type": "display_data"
    }
   ],
   "source": [
    "plt.plot(Cb)\n",
    "plt.plot(Vb)"
   ]
  },
  {
   "cell_type": "code",
   "execution_count": 86,
   "metadata": {
    "collapsed": true
   },
   "outputs": [],
   "source": [
    "Vm = 0.04"
   ]
  },
  {
   "cell_type": "code",
   "execution_count": 87,
   "metadata": {
    "collapsed": false
   },
   "outputs": [],
   "source": [
    "Vm = Vm*L/Qw\n",
    "PE = np.linspace(0,Vm,n)\n",
    "PE = PE-(Vm/2)\n",
    "\n",
    "Cb1 = Cb+Eg/2\n",
    "Vb1 = Vb+Eg/2\n",
    "\n",
    "Cb2 = Cb+PE+Eg/2\n",
    "Vb2 = Vb-PE+Eg/2\n",
    "\n",
    "\n",
    "#Define Hamiltonian cell\n",
    "Ae = np.mat(np.zeros((n,n)))\n",
    "Ah = np.mat(np.zeros((n,n)))\n",
    "Apoisson = np.mat(np.zeros((n,n)))\n",
    "Pe1 = np.diag(Cb1)\n",
    "Ph1 = np.diag(Vb1)\n",
    "Pe2 = np.diag(Cb2)\n",
    "Ph2 = np.diag(Vb2)\n",
    "off_diag = np.mat(np.zeros((n,n)))\n",
    "\n",
    "Ae[0,0] = -(1/me[0]+1/me[1]);\n",
    "Ae[1,0] = 1/me[0];\n",
    "Ae[n-1,n-1] = -(1/me[n-2]+1/me[n-1]);\n",
    "#Ae[n-1,n-2]=Ae[n-1,n-2]*2  % Dirichlet-Neumann boundary condition for \n",
    "Ae[n-2,n-1] = 1/me[n-1];\n",
    "\n",
    "Ah[0,0] = -(1/mh[0]+1/mh[1]);\n",
    "Ah[1,0] = 1/mh[0];\n",
    "Ah[n-1,n-1] = -(1/mh[n-2]+1/mh[n-1]);\n",
    "#Ah[n-1,n-2]=Ah[n-1,n-2]*2  % Dirichlet-Neumann boundary condition for \n",
    "Ah[n-2,n-1] = 1/mh[n-1];\n",
    "\n",
    "Apoisson[0,0] = -(eo*er[0]+eo*er[1]);\n",
    "Apoisson[1,0] = eo*er[0];\n",
    "Apoisson[n-1,n-1] = -(eo*er[n-2]+eo*er[n-1]);\n",
    "#Apoisson[n-1,n-2]=Apoisson[n-1,n-2]*2  % Dirichlet-Neumann boundary condition for \n",
    "Apoisson[n-2,n-1] = eo*er[n-1];\n",
    "\n",
    "off_diag[0,1] = 1;\n",
    "off_diag[1,0] = -1;\n",
    "off_diag[n-1,n-2] = -1;\n",
    "off_diag[n-2,n-1] = 1;\n",
    "\n",
    "for i in range(1,n-1):\n",
    "    Ae[i,i] = -(1/me[i-1]+1/me[i+1])\n",
    "    Ah[i,i] = -(1/mh[i-1]+1/mh[i+1])\n",
    "    Apoisson[i,i] = -(eo*er[i-1]+eo*er[i+1])\n",
    "    Ae[i+1,i] = 1/me[i-1]\n",
    "    Ah[i+1,i] = 1/mh[i-1]\n",
    "    Apoisson[i+1,i] = eo*er[i-1]\n",
    "    Ae[i-1,i] = 1/me[i+1]\n",
    "    Ah[i-1,i] = 1/mh[i+1]\n",
    "    Apoisson[i-1,i] = eo*er[i+1]\n",
    "    off_diag[i,i+1] = 1\n",
    "    off_diag[i+1,i] = -1"
   ]
  },
  {
   "cell_type": "code",
   "execution_count": 88,
   "metadata": {
    "collapsed": true
   },
   "outputs": [],
   "source": [
    "kp = np.zeros(shape=(2*n,2*n), dtype=complex)\n",
    "kp[0:n, 0:n] = -Ae/m/e*(hbar**2)/2/(space**2) + Pe1\n",
    "kp[n:2*n, n:2*n] = Ah/m/e*(hbar**2)/2/(space**2) - Ph1\n",
    "kp[0:n, n:2*n] = off_diag*(-1j)*hbar*k/2/space\n",
    "kp[n:2*n, 0:n] = kp[0:n, n:2*n]\n",
    "Apoisson = Apoisson/(space**2);"
   ]
  },
  {
   "cell_type": "code",
   "execution_count": 89,
   "metadata": {
    "collapsed": false
   },
   "outputs": [],
   "source": [
    "ev, ef = np.linalg.eigh(kp)      #eigen value of Hermitian operator\n",
    "Cb_temp = abs(ev-min(Cb))\n",
    "Vb_temp = abs(ev+min(Vb))\n",
    "Cb_E_address = np.where(Cb_temp==min(abs(Cb_temp)))\n",
    "Vb_E_address = np.where(Vb_temp==min(abs(Vb_temp)))\n",
    "Cb_energy = ev[Cb_E_address]\n",
    "Vb_energy = ev[Vb_E_address]\n",
    "Ee_address = Cb_E_address[0]\n",
    "Eh_address = Vb_E_address[0]\n",
    "Ee_address = int(Ee_address[0])\n",
    "Eh_address = int(Eh_address[0])"
   ]
  },
  {
   "cell_type": "code",
   "execution_count": 90,
   "metadata": {
    "collapsed": false
   },
   "outputs": [],
   "source": [
    "psi_e = ef[0:n, n]  \n",
    "psi_h = ef[n:2*n, n-1]\n",
    "psi_e_sq = psi_e*np.conjugate(psi_e)   \n",
    "psi_h_sq = psi_h*np.conjugate(psi_h)\n",
    "norm_e = sum(psi_e_sq)*space\n",
    "norm_h = sum(psi_h_sq)*space\n",
    "psi_e_sq_norm = psi_e_sq/space\n",
    "psi_h_sq_norm = psi_h_sq/space\n",
    "psi_e_norm = psi_e/np.sqrt(norm_e)   #normalized wf\n",
    "psi_h_norm = psi_h/np.sqrt(norm_h)"
   ]
  },
  {
   "cell_type": "code",
   "execution_count": 91,
   "metadata": {
    "collapsed": false
   },
   "outputs": [],
   "source": [
    "distance_lower = np.zeros((n,n))\n",
    "for i in range(n):\n",
    "    temp = np.eye(n,k=i)*i\n",
    "    distance_lower = distance_lower+temp\n",
    "distance_upper = distance_lower.T\n",
    "distance = distance_lower+distance_upper\n",
    "distance = distance+np.eye(n,k=0)\n",
    "distance = 1/distance-np.eye(n,k=0)\n",
    "\n",
    "del Cb_E_address, Vb_E_address\n",
    "## self-consistency\n",
    "old_Cb_E=0"
   ]
  },
  {
   "cell_type": "code",
   "execution_count": 92,
   "metadata": {
    "collapsed": false
   },
   "outputs": [
    {
     "name": "stdout",
     "output_type": "stream",
     "text": [
      "[ 1.08451251]\n",
      "[ 1.08425088]\n"
     ]
    },
    {
     "data": {
      "text/plain": [
       "[<matplotlib.lines.Line2D at 0x1120fce90>]"
      ]
     },
     "execution_count": 92,
     "metadata": {},
     "output_type": "execute_result"
    },
    {
     "data": {
      "image/png": "[encoded data removed]",
      "text/plain": [
       "<matplotlib.figure.Figure at 0x111adead0>"
      ]
     },
     "metadata": {},
     "output_type": "display_data"
    },
    {
     "data": {
      "image/png": "[encoded data removed]",
      "text/plain": [
       "<matplotlib.figure.Figure at 0x111aefbd0>"
      ]
     },
     "metadata": {},
     "output_type": "display_data"
    }
   ],
   "source": [
    "for i in range(30):\n",
    "    Velectron = np.zeros((n))\n",
    "    Vhole = np.zeros((n))\n",
    "    e_over_r = np.zeros((n))\n",
    "    h_over_r = np.zeros((n))\n",
    "    for j in range(n):\n",
    "        e_over_r = np.multiply(distance[j,:], np.real(psi_e_sq_norm))\n",
    "        h_over_r = np.multiply(distance[j,:],np.real(psi_h_sq_norm))\n",
    "        Velectron[j] = sum(e_over_r)/er[j]\n",
    "        Vhole[j] = sum(h_over_r)/er[j]\n",
    "    Velectron = Velectron*e/4/np.pi/eo/(er1+er2)*2\n",
    "    Vhole = Vhole*e/4/np.pi/eo/(er1+er2)*2\n",
    "    Velectron_mat = np.diag(Velectron)\n",
    "    Vhole_mat = np.diag(Vhole)\n",
    "    kkp = np.zeros(shape=(2*n,2*n), dtype=complex)\n",
    "    kkp[0:n, 0:n] = -Ae/m/e*(hbar**2)/2/(space**2) + Pe2 - Vhole_mat\n",
    "    kkp[n:2*n, n:2*n] = Ah/m/e*(hbar**2)/2/(space**2) - Ph2 + Velectron_mat\n",
    "    kkp[0:n, n:2*n] = off_diag*(-1j)*hbar*k/2/space\n",
    "    kkp[n:2*n, 0:n] = kkp[0:n, n:2*n]\n",
    "\n",
    "    #kkp[0:n, 0:n]=kp[0:n, 0:n]-Vhole_mat\n",
    "    #kkp[n:2*n, n:2*n]= kp[n:2*n, n:2*n]+Velectron_mat\n",
    "\n",
    "    ev, ef = np.linalg.eigh(kkp)      #eigen value of Hermitian operator\n",
    "    Cb3 = Cb2-Vhole\n",
    "    Vb3 = Vb2-Velectron\n",
    "    Cb_temp = abs(ev-min(Cb3))\n",
    "    Vb_temp = abs(ev+min(Vb3))\n",
    "    Cb_E_address = np.where(Cb_temp==min(abs(Cb_temp)))\n",
    "    Vb_E_address = np.where(Vb_temp==min(abs(Vb_temp)))\n",
    "\n",
    "    Cb_energy = ev[Cb_E_address[0]]\n",
    "    Vb_energy = ev[Vb_E_address[0]]\n",
    "    #Ee_address=Cb_E_address[0]\n",
    "    #Eh_address=Vb_E_address[0]\n",
    "    #Ee_address=float(Ee_address[0])\n",
    "    #Eh_address=float(Eh_address[0])\n",
    "    psi_e=ef[0:n, int(Cb_E_address[0])]  \n",
    "    psi_h=ef[n:2*n, int(Vb_E_address[0])]\n",
    "\n",
    "    psi_e_sq = psi_e*np.conjugate(psi_e)   \n",
    "    psi_h_sq = psi_h*np.conjugate(psi_h)\n",
    "    norm_e = sum(psi_e_sq)*space\n",
    "    norm_h = sum(psi_h_sq)*space\n",
    "    psi_e_sq_norm = psi_e_sq/space\n",
    "    psi_h_sq_norm = psi_h_sq/space\n",
    "    psi_e_norm = psi_e/np.sqrt(norm_e)   #normalized wf\n",
    "    psi_h_norm = psi_h/np.sqrt(norm_h)\n",
    "    print Cb_energy\n",
    "    plt.figure(1)\n",
    "    plt.plot(psi_h_sq_norm)\n",
    "    plt.plot(psi_e_sq_norm)\n",
    "\n",
    "    if abs(float(Cb_energy-old_Cb_E)) < 0.001:\n",
    "        break\n",
    "    old_Cb_E=Cb_energy\n",
    "    \n",
    "Velectron = np.zeros((n))\n",
    "Vhole = np.zeros((n))\n",
    "for j in range(n):\n",
    "    e_over_r = np.multiply(distance[j,:],np.real(psi_e_sq_norm))\n",
    "    h_over_r = np.multiply(distance[j,:],np.real(psi_h_sq_norm))\n",
    "    Velectron[j] = sum(e_over_r)/er[j]\n",
    "    Vhole[j] = sum(h_over_r)/er[j]\n",
    "Velectron = Velectron*e/4/np.pi/eo/(er1+er2)*2\n",
    "Vhole = Vhole*e/4/np.pi/eo/(er1+er2)*2\n",
    "Cb3 = Cb2-Vhole\n",
    "Vb3 = Vb2-Velectron\n",
    "\n",
    "plt.figure(2)\n",
    "plt.plot(Cb3)\n",
    "plt.plot(Vb3)"
   ]
  },
  {
   "cell_type": "code",
   "execution_count": 93,
   "metadata": {
    "collapsed": false
   },
   "outputs": [
    {
     "name": "stdout",
     "output_type": "stream",
     "text": [
      "[ 585.07451758]\n"
     ]
    }
   ],
   "source": [
    "Eex = Cb_energy-Vb_energy\n",
    "lamda = 1240/Eex\n",
    "print lamda"
   ]
  }
 ],
 "metadata": {
  "kernelspec": {
   "display_name": "Python 2",
   "language": "python",
   "name": "python2"
  },
  "language_info": {
   "codemirror_mode": {
    "name": "ipython",
    "version": 2
   },
   "file_extension": ".py",
   "mimetype": "text/x-python",
   "name": "python",
   "nbconvert_exporter": "python",
   "pygments_lexer": "ipython2",
   "version": "2.7.11"
  }
 },
 "nbformat": 4,
 "nbformat_minor": 0
}
