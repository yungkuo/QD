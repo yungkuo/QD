{
 "metadata": {
  "name": "",
  "signature": "sha256:c0f69b31152e81c8406be51a0c0a55a15e45a5d4c08d0f893423a0aa4dab8eb9"
 },
 "nbformat": 3,
 "nbformat_minor": 0,
 "worksheets": [
  {
   "cells": [
    {
     "cell_type": "heading",
     "level": 1,
     "metadata": {},
     "source": [
      "Quantum dot Calculation"
     ]
    },
    {
     "cell_type": "markdown",
     "metadata": {},
     "source": [
      "**Author: Kyoungwon Park <br/>\n",
      "Copyright: Kyoungwon Park <br/>\n",
      "Questions to: pkw0818@gmail.com **\n",
      "\n",
      "Features <br/>\n",
      "1. 1D, 2D, 3D (2D + rotation symmetry) FDM\n",
      "2. Self-consistent Schrodiner-Poisson equations iteratively.\n",
      "3. 1 band (e and h separate) or 2 band K dot P calculation  "
     ]
    },
    {
     "cell_type": "code",
     "collapsed": false,
     "input": [
      "from __future__ import division\n",
      "import matplotlib.pyplot as plt\n",
      "import numpy as np"
     ],
     "language": "python",
     "metadata": {},
     "outputs": [],
     "prompt_number": 8
    },
    {
     "cell_type": "markdown",
     "metadata": {},
     "source": [
      "**Control**"
     ]
    },
    {
     "cell_type": "code",
     "collapsed": false,
     "input": [
      "band = 1 # 1: Solve e and h separately. 2: solve 2 band k dot p together \n",
      "dim = 3 # 1: 1D   2: 2D  3: 2D + cylindrical\n",
      "material = 'CdSe'\n",
      "\n",
      "if material == 'CdSe':\n",
      "    param = parameter.CdSe()\n",
      "    convgn = 'slowconv'      # Type-I QD is better for slow conversion. e and h affects a lot than type-II. \n",
      "elif material == 'ZnSe_CdS':\n",
      "    param = parameter.ZnSe_CdS()\n",
      "    convgn = 'fastconv'     # Type-II QD is better for fast conversion. "
     ],
     "language": "python",
     "metadata": {},
     "outputs": [],
     "prompt_number": 9
    },
    {
     "cell_type": "markdown",
     "metadata": {},
     "source": [
      "**Define basic parameters**"
     ]
    },
    {
     "cell_type": "code",
     "collapsed": false,
     "input": [
      "hbar = 6.626e-34/2/np.pi     # [m2 kg/s]\n",
      "e = 1.6e-19                  # [c]\n",
      "eo = 8.85e-12;               # [F/m]\n",
      "m = 9.1e-31;                 # [kg]"
     ],
     "language": "python",
     "metadata": {},
     "outputs": [],
     "prompt_number": 11
    },
    {
     "cell_type": "code",
     "collapsed": false,
     "input": [],
     "language": "python",
     "metadata": {},
     "outputs": []
    }
   ],
   "metadata": {}
  }
 ]
}